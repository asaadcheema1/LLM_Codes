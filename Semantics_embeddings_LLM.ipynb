{
  "cells": [
    {
      "cell_type": "code",
      "execution_count": 7,
      "id": "9214bd93-d65d-4dbd-94e3-254a2f670c52",
      "metadata": {
        "id": "9214bd93-d65d-4dbd-94e3-254a2f670c52"
      },
      "outputs": [],
      "source": [
        "# Necessary for Colab, not necessary for course environment\n",
        "# %pip install -qq langchain langchain-nvidia-ai-endpoints gradio\n",
        "# %pip install -qq arxiv pymupdf\n",
        "# %pip install -U langchain-community\n",
        "\n",
        "import os\n",
        "os.environ[\"NVIDIA_API_KEY\"] = \"nvapi-key\""
      ]
    },
    {
      "cell_type": "code",
      "source": [
        "from functools import partial\n",
        "from rich.console import Console\n",
        "from rich.style import Style\n",
        "from rich.theme import Theme\n",
        "\n",
        "console = Console()\n",
        "base_style = Style(color=\"#76B900\", bold=True)\n",
        "pprint = partial(console.print, style=base_style)"
      ],
      "metadata": {
        "id": "-6aC8_q9EVhf"
      },
      "id": "-6aC8_q9EVhf",
      "execution_count": 8,
      "outputs": []
    },
    {
      "cell_type": "code",
      "source": [
        "from langchain_nvidia_ai_endpoints import ChatNVIDIA, NVIDIAEmbeddings\n",
        "[m for m in NVIDIAEmbeddings.get_available_models() if \"embed\" in m.id]"
      ],
      "metadata": {
        "colab": {
          "base_uri": "https://localhost:8080/"
        },
        "id": "emELl3FyEaJS",
        "outputId": "853612ef-1530-4e91-96b5-bc0c5c5df57c"
      },
      "id": "emELl3FyEaJS",
      "execution_count": 9,
      "outputs": [
        {
          "output_type": "execute_result",
          "data": {
            "text/plain": [
              "[Model(id='nvidia/nv-embedqa-e5-v5', model_type='embedding', client='NVIDIAEmbeddings', endpoint=None, aliases=None, supports_tools=False, supports_structured_output=False, base_model=None),\n",
              " Model(id='nvidia/embed-qa-4', model_type='embedding', client='NVIDIAEmbeddings', endpoint=None, aliases=None, supports_tools=False, supports_structured_output=False, base_model=None),\n",
              " Model(id='snowflake/arctic-embed-l', model_type='embedding', client='NVIDIAEmbeddings', endpoint=None, aliases=['ai-arctic-embed-l'], supports_tools=False, supports_structured_output=False, base_model=None),\n",
              " Model(id='nvidia/nv-embedqa-mistral-7b-v2', model_type='embedding', client='NVIDIAEmbeddings', endpoint=None, aliases=None, supports_tools=False, supports_structured_output=False, base_model=None),\n",
              " Model(id='nvidia/llama-3.2-nv-embedqa-1b-v1', model_type='embedding', client='NVIDIAEmbeddings', endpoint=None, aliases=None, supports_tools=False, supports_structured_output=False, base_model=None),\n",
              " Model(id='nvidia/nv-embed-v1', model_type='embedding', client='NVIDIAEmbeddings', endpoint=None, aliases=['ai-nv-embed-v1'], supports_tools=False, supports_structured_output=False, base_model=None)]"
            ]
          },
          "metadata": {},
          "execution_count": 9
        }
      ]
    },
    {
      "cell_type": "code",
      "source": [
        "from langchain_nvidia_ai_endpoints import ChatNVIDIA, NVIDIAEmbeddings\n",
        "\n",
        "# NVIDIAEmbeddings.get_available_models()\n",
        "# embedder = NVIDIAEmbeddings(model=\"nvidia/nv-embedqa-mistral-7b-v2\")\n",
        "# embedder = NVIDIAEmbeddings(model=\"nvidia/nv-embedqa-e5-v5\")\n",
        "# embedder = NVIDIAEmbeddings(model=\"nvidia/embed-qa-4\")\n",
        "# embedder = NVIDIAEmbeddings(model=\"snowflake/arctic-embed-l\")\n",
        "embedder = NVIDIAEmbeddings(model=\"nvidia/nv-embed-v1\")\n",
        "\n",
        "# ChatNVIDIA.get_available_models()\n",
        "instruct_llm = ChatNVIDIA(model=\"mistralai/mixtral-8x7b-instruct-v0.1\")"
      ],
      "metadata": {
        "id": "IkS6rwuFD0jw"
      },
      "id": "IkS6rwuFD0jw",
      "execution_count": 10,
      "outputs": []
    },
    {
      "cell_type": "code",
      "source": [
        "# Example queries and documents\n",
        "queries = [\n",
        "    \"What's the weather like in Rocky Mountains?\",\n",
        "    \"What kinds of food is Italy known for?\",\n",
        "    \"What's my name? I bet you don't remember...\",\n",
        "    \"What's the point of life anyways?\",\n",
        "    \"The point of life is to have fun :D\"\n",
        "]\n",
        "\n",
        "documents = [\n",
        "    \"Komchatka's weather is cold, with long, severe winters.\",\n",
        "    \"Italy is famous for pasta, pizza, gelato, and espresso.\",\n",
        "    \"I can't recall personal names, only provide information.\",\n",
        "    \"Life's purpose varies, often seen as personal fulfillment.\",\n",
        "    \"Enjoying life's moments is indeed a wonderful approach.\",\n",
        "]"
      ],
      "metadata": {
        "id": "1fWLWnf_DdlT"
      },
      "id": "1fWLWnf_DdlT",
      "execution_count": 11,
      "outputs": []
    },
    {
      "cell_type": "code",
      "source": [
        "%%time\n",
        "# Embedding the queries\n",
        "q_embeddings = [embedder.embed_query(query) for query in queries]\n",
        "\n",
        "# Embedding the documents\n",
        "d_embeddings = embedder.embed_documents(documents)"
      ],
      "metadata": {
        "colab": {
          "base_uri": "https://localhost:8080/"
        },
        "id": "1T2gq9rCCkCB",
        "outputId": "e4f1b09f-812b-40ff-c53f-803d14cfc22c"
      },
      "id": "1T2gq9rCCkCB",
      "execution_count": 12,
      "outputs": [
        {
          "output_type": "stream",
          "name": "stdout",
          "text": [
            "CPU times: user 73.1 ms, sys: 6.73 ms, total: 79.8 ms\n",
            "Wall time: 3.2 s\n"
          ]
        }
      ]
    },
    {
      "cell_type": "code",
      "source": [
        "%%time\n",
        "# Embedding the queries\n",
        "q_embeddings = [embedder.embed_query(query) for query in queries]\n",
        "\n",
        "# Embedding the documents\n",
        "d_embeddings = embedder.embed_documents(documents)"
      ],
      "metadata": {
        "id": "AmlqMgQELHB8"
      },
      "id": "AmlqMgQELHB8",
      "execution_count": null,
      "outputs": []
    },
    {
      "cell_type": "code",
      "source": [
        "import numpy as np\n",
        "import matplotlib.pyplot as plt\n",
        "from sklearn.metrics.pairwise import cosine_similarity\n",
        "\n",
        "def plot_cross_similarity_matrix(emb1, emb2):\n",
        "    # Compute the similarity matrix between embeddings1 and embeddings2\n",
        "    cross_similarity_matrix = cosine_similarity(np.array(emb1), np.array(emb2))\n",
        "\n",
        "    # Plotting the cross-similarity matrix\n",
        "    plt.imshow(cross_similarity_matrix, cmap='Greens', interpolation='nearest')\n",
        "    plt.colorbar()\n",
        "    plt.gca().invert_yaxis()\n",
        "    plt.title(\"Cross-Similarity Matrix\")\n",
        "    plt.grid(True)\n",
        "\n",
        "plt.figure(figsize=(8, 6))\n",
        "plot_cross_similarity_matrix(q_embeddings, d_embeddings)\n",
        "plt.xlabel(\"Query Embeddings\")\n",
        "plt.ylabel(\"Document Embeddings\")\n",
        "plt.show()"
      ],
      "metadata": {
        "colab": {
          "base_uri": "https://localhost:8080/",
          "height": 564
        },
        "id": "LtVHWTWyLYrE",
        "outputId": "da83de1a-85d3-433b-e84c-9e16ffbc8d73"
      },
      "id": "LtVHWTWyLYrE",
      "execution_count": 13,
      "outputs": [
        {
          "output_type": "display_data",
          "data": {
            "text/plain": [
              "<Figure size 800x600 with 2 Axes>"
            ],
            "image/png": "[encoded data removed]"
          },
          "metadata": {}
        }
      ]
    }
  ],
  "metadata": {
    "colab": {
      "provenance": []
    },
    "kernelspec": {
      "display_name": "Python 3 (ipykernel)",
      "language": "python",
      "name": "python3"
    },
    "language_info": {
      "codemirror_mode": {
        "name": "ipython",
        "version": 3
      },
      "file_extension": ".py",
      "mimetype": "text/x-python",
      "name": "python",
      "nbconvert_exporter": "python",
      "pygments_lexer": "ipython3",
      "version": "3.11.10"
    }
  },
  "nbformat": 4,
  "nbformat_minor": 5
}